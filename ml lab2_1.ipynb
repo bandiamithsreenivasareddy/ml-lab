{
  "nbformat": 4,
  "nbformat_minor": 0,
  "metadata": {
    "colab": {
      "provenance": []
    },
    "kernelspec": {
      "name": "python3",
      "display_name": "Python 3"
    },
    "language_info": {
      "name": "python"
    }
  },
  "cells": [
    {
      "cell_type": "markdown",
      "source": [
        "1. Write a program to count the number of vowels and consonants present in an input string.\n"
      ],
      "metadata": {
        "id": "RhQORizzOQ2w"
      }
    },
    {
      "cell_type": "code",
      "execution_count": 1,
      "metadata": {
        "colab": {
          "base_uri": "https://localhost:8080/",
          "height": 0
        },
        "id": "IJqV-Zd4Fbm4",
        "outputId": "8a7b1bbc-4887-485e-8ab0-a2d9d785c24c"
      },
      "outputs": [
        {
          "output_type": "stream",
          "name": "stdout",
          "text": [
            "Enter a string: amithsreenivasa\n",
            "Vowels: 7, Consonants: 8\n"
          ]
        }
      ],
      "source": [
        "def count_vowels_consonants(input_string):\n",
        "    vowels = 'aeiouAEIOU'\n",
        "    consonants = 'bcdfghjklmnpqrstvwxyzBCDFGHJKLMNPQRSTVWXYZ'\n",
        "\n",
        "    vowel_count = 0\n",
        "    consonant_count = 0\n",
        "\n",
        "    for char in input_string:\n",
        "        if char in vowels:\n",
        "            vowel_count += 1\n",
        "        elif char in consonants:\n",
        "            consonant_count += 1\n",
        "\n",
        "    return vowel_count, consonant_count\n",
        "\n",
        "# Test the function\n",
        "input_string = input(\"Enter a string: \")\n",
        "vowels, consonants = count_vowels_consonants(input_string)\n",
        "print(f\"Vowels: {vowels}, Consonants: {consonants}\")\n"
      ]
    },
    {
      "cell_type": "markdown",
      "source": [
        "2. Write a program that accepts two matrices A and B as input and returns their product AB.\n",
        "Check if A & B are multipliable; if not, return error message."
      ],
      "metadata": {
        "id": "bbX_xmTVOV8g"
      }
    },
    {
      "cell_type": "code",
      "source": [
        "def matrix_multiply(A, B):\n",
        "    # Check if multiplication is possible (columns of A must be equal to rows of B)\n",
        "    if len(A[0]) != len(B):\n",
        "        return \"Error: Matrices cannot be multiplied.\"\n",
        "\n",
        "    # Initialize result matrix with 0s\n",
        "    result = [[0] * len(B[0]) for _ in range(len(A))]\n",
        "\n",
        "    # Perform matrix multiplication\n",
        "    for i in range(len(A)):\n",
        "        for j in range(len(B[0])):\n",
        "            for k in range(len(B)):\n",
        "                result[i][j] += A[i][k] * B[k][j]\n",
        "\n",
        "    return result\n",
        "\n",
        "# Input matrices A and B\n",
        "A = [[int(x) for x in input(f\"Enter row {i+1} of matrix A: \").split()] for i in range(int(input(\"Enter number of rows in A: \")))]\n",
        "B = [[int(x) for x in input(f\"Enter row {i+1} of matrix B: \").split()] for i in range(int(input(\"Enter number of rows in B: \")))]\n",
        "product = matrix_multiply(A, B)\n",
        "\n",
        "if isinstance(product, str):\n",
        "    print(product)\n",
        "else:\n",
        "    print(\"Product of matrices A and B:\")\n",
        "    for row in product:\n",
        "        print(row)\n"
      ],
      "metadata": {
        "colab": {
          "base_uri": "https://localhost:8080/",
          "height": 0
        },
        "id": "3Oq5ZBlJFftP",
        "outputId": "2b1b1a1e-0839-443f-9cbc-edf084d124a9"
      },
      "execution_count": 8,
      "outputs": [
        {
          "output_type": "stream",
          "name": "stdout",
          "text": [
            "Enter number of rows in A: 5\n",
            "Enter row 1 of matrix A: 1 2 3 4 5\n",
            "Enter row 2 of matrix A: 1 2 3 4 5\n",
            "Enter row 3 of matrix A: 1 2 3 4 5\n",
            "Enter row 4 of matrix A: 1 2 3 4 5\n",
            "Enter row 5 of matrix A: 1 2 3 4 5\n",
            "Enter number of rows in B: 5\n",
            "Enter row 1 of matrix B: 1 2 3 4 5\n",
            "Enter row 2 of matrix B: 1 2 3 4 5\n",
            "Enter row 3 of matrix B: 1 2 3 4 5\n",
            "Enter row 4 of matrix B: 1 2 3 4 5\n",
            "Enter row 5 of matrix B: 1 2 3 4 5\n",
            "Product of matrices A and B:\n",
            "[15, 30, 45, 60, 75]\n",
            "[15, 30, 45, 60, 75]\n",
            "[15, 30, 45, 60, 75]\n",
            "[15, 30, 45, 60, 75]\n",
            "[15, 30, 45, 60, 75]\n"
          ]
        }
      ]
    },
    {
      "cell_type": "markdown",
      "source": [
        "3. Write a program to find the number of common elements between two lists. The lists\n",
        "contain integers."
      ],
      "metadata": {
        "id": "2x2k24heOPW4"
      }
    },
    {
      "cell_type": "code",
      "source": [
        "def common_elements(list1, list2):\n",
        "    return len(set(list1) & set(list2))\n",
        "\n",
        "# Input two lists\n",
        "list1 = [int(x) for x in input(\"Enter integers for the first list: \").split()]\n",
        "list2 = [int(x) for x in input(\"Enter integers for the second list: \").split()]\n",
        "\n",
        "print(f\"Number of common elements: {common_elements(list1, list2)}\")\n"
      ],
      "metadata": {
        "colab": {
          "base_uri": "https://localhost:8080/",
          "height": 0
        },
        "id": "Ziu7nUuGFh8f",
        "outputId": "5eeaf98a-0049-4ba9-ba5d-24ff517d9aba"
      },
      "execution_count": 3,
      "outputs": [
        {
          "output_type": "stream",
          "name": "stdout",
          "text": [
            "Enter integers for the first list: 1 2 3 4 5 6 5 6 4 3 4 5\n",
            "Enter integers for the second list: 2 3 4 5 6 5 6 6 5 6 7 8\n",
            "Number of common elements: 5\n"
          ]
        }
      ]
    },
    {
      "cell_type": "markdown",
      "source": [
        "4. Write a program that accepts a matrix as input and returns its transpose."
      ],
      "metadata": {
        "id": "i7Q_0vm0OmR3"
      }
    },
    {
      "cell_type": "code",
      "source": [
        "def transpose_matrix(matrix):\n",
        "    return [list(row) for row in zip(*matrix)]\n",
        "\n",
        "# Input matrix\n",
        "matrix = [list(map(int, input(f\"Enter row {i+1} of the matrix: \").split())) for i in range(int(input(\"Enter number of rows: \")))]\n",
        "\n",
        "transposed = transpose_matrix(matrix)\n",
        "\n",
        "print(\"Transpose of the matrix:\")\n",
        "for row in transposed:\n",
        "    print(row)\n"
      ],
      "metadata": {
        "colab": {
          "base_uri": "https://localhost:8080/",
          "height": 0
        },
        "id": "BuPes-QTFmmX",
        "outputId": "d47a419d-69b2-43d2-d77c-9802894ef22d"
      },
      "execution_count": 4,
      "outputs": [
        {
          "output_type": "stream",
          "name": "stdout",
          "text": [
            "Enter number of rows: 2\n",
            "Enter row 1 of the matrix: 1 2 3\n",
            "Enter row 2 of the matrix: 3 4 5\n",
            "Transpose of the matrix:\n",
            "[1, 3]\n",
            "[2, 4]\n",
            "[3, 5]\n"
          ]
        }
      ]
    }
  ]
}