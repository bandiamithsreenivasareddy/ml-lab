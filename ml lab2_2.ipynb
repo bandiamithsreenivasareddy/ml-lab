{
  "nbformat": 4,
  "nbformat_minor": 0,
  "metadata": {
    "colab": {
      "provenance": []
    },
    "kernelspec": {
      "name": "python3",
      "display_name": "Python 3"
    },
    "language_info": {
      "name": "python"
    }
  },
  "cells": [
    {
      "cell_type": "markdown",
      "source": [
        "ML LAB 2\n",
        "\n",
        "\n",
        "1. Consider the given list as [2, 7, 4, 1, 3, 6]. Write a program to count pairs of elements with\n",
        "sum equal to 10."
      ],
      "metadata": {
        "id": "rsO8dPJDFXYs"
      }
    },
    {
      "cell_type": "code",
      "execution_count": 1,
      "metadata": {
        "colab": {
          "base_uri": "https://localhost:8080/",
          "height": 0
        },
        "id": "5DimH9BtEu6c",
        "outputId": "e4c4da23-1c6c-4665-eb2f-b0151cdfaea1"
      },
      "outputs": [
        {
          "output_type": "stream",
          "name": "stdout",
          "text": [
            "7 3\n",
            "4 6\n",
            "count= 2\n"
          ]
        }
      ],
      "source": [
        "list1=[2, 7, 4, 1, 3, 6]\n",
        "count=0\n",
        "for i in range(len(list1)):\n",
        "  for j in range(i+1,len(list1)):\n",
        "    if list1[i]+list1[j]==10:\n",
        "      count=count+1\n",
        "      print(  list1[i],list1[j])\n",
        "print(\"count=\",count)\n"
      ]
    },
    {
      "cell_type": "code",
      "source": [
        "# modularised code\n",
        "def count_pairs_with_sum(lst, target_sum):\n",
        "\n",
        "    count = 0\n",
        "    pairs = []\n",
        "    for i in range(len(lst)):\n",
        "        for j in range(i + 1, len(lst)):\n",
        "            if lst[i] + lst[j] == target_sum:\n",
        "                count += 1\n",
        "                pairs.append((lst[i], lst[j]))\n",
        "    return count, pairs\n",
        "\n",
        "# Main program\n",
        "if __name__ == \"__main__\":\n",
        "    list1 = [2, 7, 4, 1, 3, 6]\n",
        "    target_sum = 10\n",
        "    count, pairs = count_pairs_with_sum(list1, target_sum)\n",
        "\n",
        "    # Display the pairs\n",
        "    for pair in pairs:\n",
        "        print(pair)\n",
        "\n",
        "    # Display the count of pairs\n",
        "    print(f\"count = {count}\")\n"
      ],
      "metadata": {
        "colab": {
          "base_uri": "https://localhost:8080/",
          "height": 0
        },
        "id": "sW4oRrA0GpeX",
        "outputId": "e0f3b5c1-ebed-40bb-bd6d-cd9f5bc1fca3"
      },
      "execution_count": 2,
      "outputs": [
        {
          "output_type": "stream",
          "name": "stdout",
          "text": [
            "(7, 3)\n",
            "(4, 6)\n",
            "count = 2\n"
          ]
        }
      ]
    },
    {
      "cell_type": "markdown",
      "source": [
        "2. Write a program that takes a list of real numbers as input and returns the range (difference\n",
        "between minimum and maximum) of the list. Check for list being less than 3 elements in\n",
        "which case return an error message (Ex: “Range determination not possible”). Given a list\n",
        "[5,3,8,1,0,4], the range is 8 (8-0)."
      ],
      "metadata": {
        "id": "L3fQO5kkGWKG"
      }
    },
    {
      "cell_type": "code",
      "source": [
        "list=[5,3,8,1,0,4]\n",
        "if len(list)<3:\n",
        "  print(\"range determination not possible\")\n",
        "else:\n",
        "  print(\"range=\",max(list)-min(list))"
      ],
      "metadata": {
        "colab": {
          "base_uri": "https://localhost:8080/",
          "height": 0
        },
        "id": "8vfekhPTGX3l",
        "outputId": "902defd7-d120-4b44-85b4-497d816ac650"
      },
      "execution_count": 3,
      "outputs": [
        {
          "output_type": "stream",
          "name": "stdout",
          "text": [
            "range= 8\n"
          ]
        }
      ]
    },
    {
      "cell_type": "code",
      "source": [
        "\n",
        "def calculate_range(lst):\n",
        "\n",
        "    if len(lst) < 3:\n",
        "        return \"Range determination not possible\"\n",
        "    else:\n",
        "        return max(lst) - min(lst)\n",
        "\n",
        "# Main program\n",
        "if __name__ == \"__main__\":\n",
        "    list1 = [5, 3, 8, 1, 0, 4]\n",
        "    range_result = calculate_range(list1)\n",
        "\n",
        "    if isinstance(range_result, str):\n",
        "        print(range_result)\n",
        "    else:\n",
        "        print(f\"Range = {range_result}\")\n"
      ],
      "metadata": {
        "id": "TdjvlkHlIf7y"
      },
      "execution_count": null,
      "outputs": []
    },
    {
      "cell_type": "markdown",
      "source": [
        "3. Write a program that accepts a square matrix A and a positive integer m as arguments and\n",
        "returns A^m."
      ],
      "metadata": {
        "id": "GIIMEd98IzRK"
      }
    },
    {
      "cell_type": "code",
      "source": [
        "import numpy as np\n",
        "\n",
        "# Function to calculate A^m\n",
        "def matrix_power(A, m):\n",
        "    return np.linalg.matrix_power(A, m)\n",
        "\n",
        "# Main program\n",
        "if __name__ == \"__main__\":\n",
        "\n",
        "    n = int(input(\"Enter the size of the square matrix (n x n): \"))\n",
        "\n",
        "\n",
        "    matrix_elements = []\n",
        "\n",
        "\n",
        "    for i in range(n):\n",
        "        for j in range(n):\n",
        "            element = int(input(f\"Enter element ({i+1}, {j+1}): \"))\n",
        "            matrix_elements.append(element)\n",
        "\n",
        "\n",
        "    A = np.array(matrix_elements).reshape(n, n)\n",
        "\n",
        "\n",
        "    m = int(input(\"Enter a positive integer m: \"))\n",
        "\n",
        "\n",
        "    result_matrix = matrix_power(A, m)\n",
        "\n",
        "\n",
        "    print(f\"Matrix A raised to the power of {m} is:\")\n",
        "    print(result_matrix)\n"
      ],
      "metadata": {
        "colab": {
          "base_uri": "https://localhost:8080/",
          "height": 0
        },
        "id": "AMZ6FZaLI6-U",
        "outputId": "abd23690-8058-4783-f1bb-103823276cf1"
      },
      "execution_count": 9,
      "outputs": [
        {
          "output_type": "stream",
          "name": "stdout",
          "text": [
            "Enter the size of the square matrix (n x n): 3\n",
            "Enter element (1, 1): 1\n",
            "Enter element (1, 2): 2\n",
            "Enter element (1, 3): 3\n",
            "Enter element (2, 1): 4\n",
            "Enter element (2, 2): 5\n",
            "Enter element (2, 3): 6\n",
            "Enter element (3, 1): 7\n",
            "Enter element (3, 2): 8\n",
            "Enter element (3, 3): 9\n",
            "Enter a positive integer m: 2\n",
            "Matrix A raised to the power of 2 is:\n",
            "[[ 30  36  42]\n",
            " [ 66  81  96]\n",
            " [102 126 150]]\n"
          ]
        }
      ]
    },
    {
      "cell_type": "markdown",
      "source": [
        "Write a program to count the highest occurring character & its occurrence count in an input\n",
        "string. Consider only alphabets. Ex:  for “hippopotamus” as input string, the maximally\n",
        "occurring character is ‘p’ & occurrence count is 3."
      ],
      "metadata": {
        "id": "NDYV7JtqOFNN"
      }
    },
    {
      "cell_type": "code",
      "source": [
        "\n",
        "def highest_occurrence_char(input_string):\n",
        "    # Creating a dictionary to store the frequency of each character\n",
        "    frequency = {}\n",
        "\n",
        "    # Convert the string to lowercase and filter to only consider alphabets\n",
        "    for char in input_string:\n",
        "        if char.isalpha():\n",
        "            char = char.lower()  # Consider characters case-insensitively\n",
        "            # Count occurrences of each character\n",
        "            if char in frequency:\n",
        "                frequency[char] += 1\n",
        "            else:\n",
        "                frequency[char] = 1\n",
        "\n",
        "\n",
        "    max_char = ''\n",
        "    max_count = 0\n",
        "    for char, count in frequency.items():\n",
        "        if count > max_count:\n",
        "            max_char = char\n",
        "            max_count = count\n",
        "\n",
        "    return max_char, max_count\n",
        "\n",
        "\n",
        "if __name__ == \"__main__\":\n",
        "\n",
        "    input_string = input(\"Enter a string: \")\n",
        "\n",
        "\n",
        "    char, count = highest_occurrence_char(input_string)\n",
        "\n",
        "\n",
        "    print(f\"The maximally occurring character is '{char}' and its occurrence count is {count}.\")\n"
      ],
      "metadata": {
        "colab": {
          "base_uri": "https://localhost:8080/",
          "height": 0
        },
        "id": "uN1H-LlnOKnM",
        "outputId": "c4a04ad5-503d-4720-99a8-322df4daa29f"
      },
      "execution_count": 10,
      "outputs": [
        {
          "output_type": "stream",
          "name": "stdout",
          "text": [
            "Enter a string: hippopotomus\n",
            "The maximally occurring character is 'p' and its occurrence count is 3.\n"
          ]
        }
      ]
    }
  ]
}